{
  "cells": [
    {
      "cell_type": "markdown",
      "metadata": {
        "id": "smCz3zZrOUms"
      },
      "source": [
        "As the title suggests, this notebook is an end-to-end example of solving a real-world problem using Data Science. We’ll be using Machine Learning to predict whether a person has diabetes or not, based on information about the patient such as blood pressure, body mass index (BMI), age, etc. The notebook intends to walk through the various stages of the data science workflow. In particular, the notebook has the following sections\n",
        "\n",
        "    Overview\n",
        "    Data Description\n",
        "    Data Exploration\n",
        "    Data Preparation\n",
        "    Training and Evaluating the Machine Learning Model\n",
        "    Hyper-parameter Tuning(GridSearch CV)\n",
        "    Saving the Model\n",
        "    Making Predictions with the Model"
      ]
    },
    {
      "cell_type": "markdown",
      "metadata": {
        "id": "V43VMiEGNtEm"
      },
      "source": [
        "## **OVERVIEW**:\n",
        "\n",
        "    The data was collected and made available by “National Institute of\n",
        "    Diabetes and Digestive and Kidney Diseases” as part of the Pima Indians\n",
        "    Diabetes Database.  In particular, all patients here belong to the Pima\n",
        "    Indian heritage (subgroup of Native Americans), and are females of ages 21\n",
        "    and above.\n",
        "\n",
        "    We’ll be using Python and some of its popular data science related\n",
        "    packages. First of all, we will import pandas to read our data from a CSV\n",
        "    file and manipulate it for further use. We will also use numpy to convert\n",
        "    out data into a format suitable to feed our classification model. We’ll use\n",
        "    seaborn and matplotlib for visualizations. We will then import Logistic\n",
        "    Regression,xgboost & adaboost algorithm from sklearn. These algorithm will\n",
        "    help us build our classification model and we would choose the best amongst\n",
        "    the three. We would also use hyperparameter tuning \n",
        "    cv to fine tune our models.\n"
      ]
    },
    {
      "cell_type": "code",
      "execution_count": null,
      "metadata": {
        "colab": {
          "base_uri": "https://localhost:8080/"
        },
        "id": "WHwcxjcuD0cn",
        "outputId": "b6d84d4f-a08a-415d-fb2c-18cf4bfbafa2"
      },
      "outputs": [
        {
          "output_type": "stream",
          "name": "stdout",
          "text": [
            "Requirement already satisfied: xgboost in /usr/local/lib/python3.7/dist-packages (0.90)\n",
            "Requirement already satisfied: scipy in /usr/local/lib/python3.7/dist-packages (from xgboost) (1.4.1)\n",
            "Requirement already satisfied: numpy in /usr/local/lib/python3.7/dist-packages (from xgboost) (1.21.6)\n"
          ]
        }
      ],
      "source": [
        "import pandas as pd\n",
        "import numpy as np\n",
        "import matplotlib.pyplot as plt\n",
        "import seaborn as sns\n",
        "!pip install xgboost\n",
        "from imblearn.over_sampling import SMOTE\n",
        "from xgboost import XGBClassifier\n",
        "from sklearn.model_selection import train_test_split\n",
        "from sklearn.metrics import accuracy_score"
      ]
    },
    {
      "cell_type": "markdown",
      "metadata": {
        "id": "KiOonqciSjNf"
      },
      "source": [
        "# **DATA DESCRIPTION**:"
      ]
    },
    {
      "cell_type": "markdown",
      "metadata": {
        "id": "9KK42JAAS_DV"
      },
      "source": [
        "The following features have been provided to help us predict whether a person is diabetic or not:\n",
        "\n",
        "    Pregnancies: Number of times pregnant\n",
        "    Glucose: Plasma glucose concentration over 2 hours in an oral glucose tolerance test\n",
        "    BloodPressure: Diastolic blood pressure (mm Hg)\n",
        "    SkinThickness: Triceps skin fold thickness (mm)\n",
        "    Insulin: 2-Hour serum insulin (mu U/ml)\n",
        "    BMI: Body mass index (weight in kg/(height in m)2)\n",
        "    DiabetesPedigreeFunction: Diabetes pedigree function (a function which scores likelihood of diabetes based on family history)\n",
        "    Age: Age (years)\n",
        "    Outcome: Class variable (0 if non-diabetic, 1 if diabetic)"
      ]
    },
    {
      "cell_type": "code",
      "execution_count": null,
      "metadata": {
        "id": "Wi3RMeexD2sQ"
      },
      "outputs": [],
      "source": [
        "pima = pd.read_csv('/content/pima-indians-diabetes.csv', header=None)"
      ]
    },
    {
      "cell_type": "code",
      "execution_count": null,
      "metadata": {
        "colab": {
          "base_uri": "https://localhost:8080/",
          "height": 206
        },
        "id": "nZ5JtgqBGRy-",
        "outputId": "b1d54601-a6d6-4b70-9d92-23160613b75d"
      },
      "outputs": [
        {
          "output_type": "execute_result",
          "data": {
            "text/plain": [
              "   pregnancies  glucose  blood_pressure  skin_thickness  insulin   bmi  \\\n",
              "0            6      148              72              35        0  33.6   \n",
              "1            1       85              66              29        0  26.6   \n",
              "2            8      183              64               0        0  23.3   \n",
              "3            1       89              66              23       94  28.1   \n",
              "4            0      137              40              35      168  43.1   \n",
              "\n",
              "   diabetics_pedigree  age  outcome  \n",
              "0               0.627   50        1  \n",
              "1               0.351   31        0  \n",
              "2               0.672   32        1  \n",
              "3               0.167   21        0  \n",
              "4               2.288   33        1  "
            ],
            "text/html": [
              "\n",
              "  <div id=\"df-d121914c-945f-4783-a173-71030fa05923\">\n",
              "    <div class=\"colab-df-container\">\n",
              "      <div>\n",
              "<style scoped>\n",
              "    .dataframe tbody tr th:only-of-type {\n",
              "        vertical-align: middle;\n",
              "    }\n",
              "\n",
              "    .dataframe tbody tr th {\n",
              "        vertical-align: top;\n",
              "    }\n",
              "\n",
              "    .dataframe thead th {\n",
              "        text-align: right;\n",
              "    }\n",
              "</style>\n",
              "<table border=\"1\" class=\"dataframe\">\n",
              "  <thead>\n",
              "    <tr style=\"text-align: right;\">\n",
              "      <th></th>\n",
              "      <th>pregnancies</th>\n",
              "      <th>glucose</th>\n",
              "      <th>blood_pressure</th>\n",
              "      <th>skin_thickness</th>\n",
              "      <th>insulin</th>\n",
              "      <th>bmi</th>\n",
              "      <th>diabetics_pedigree</th>\n",
              "      <th>age</th>\n",
              "      <th>outcome</th>\n",
              "    </tr>\n",
              "  </thead>\n",
              "  <tbody>\n",
              "    <tr>\n",
              "      <th>0</th>\n",
              "      <td>6</td>\n",
              "      <td>148</td>\n",
              "      <td>72</td>\n",
              "      <td>35</td>\n",
              "      <td>0</td>\n",
              "      <td>33.6</td>\n",
              "      <td>0.627</td>\n",
              "      <td>50</td>\n",
              "      <td>1</td>\n",
              "    </tr>\n",
              "    <tr>\n",
              "      <th>1</th>\n",
              "      <td>1</td>\n",
              "      <td>85</td>\n",
              "      <td>66</td>\n",
              "      <td>29</td>\n",
              "      <td>0</td>\n",
              "      <td>26.6</td>\n",
              "      <td>0.351</td>\n",
              "      <td>31</td>\n",
              "      <td>0</td>\n",
              "    </tr>\n",
              "    <tr>\n",
              "      <th>2</th>\n",
              "      <td>8</td>\n",
              "      <td>183</td>\n",
              "      <td>64</td>\n",
              "      <td>0</td>\n",
              "      <td>0</td>\n",
              "      <td>23.3</td>\n",
              "      <td>0.672</td>\n",
              "      <td>32</td>\n",
              "      <td>1</td>\n",
              "    </tr>\n",
              "    <tr>\n",
              "      <th>3</th>\n",
              "      <td>1</td>\n",
              "      <td>89</td>\n",
              "      <td>66</td>\n",
              "      <td>23</td>\n",
              "      <td>94</td>\n",
              "      <td>28.1</td>\n",
              "      <td>0.167</td>\n",
              "      <td>21</td>\n",
              "      <td>0</td>\n",
              "    </tr>\n",
              "    <tr>\n",
              "      <th>4</th>\n",
              "      <td>0</td>\n",
              "      <td>137</td>\n",
              "      <td>40</td>\n",
              "      <td>35</td>\n",
              "      <td>168</td>\n",
              "      <td>43.1</td>\n",
              "      <td>2.288</td>\n",
              "      <td>33</td>\n",
              "      <td>1</td>\n",
              "    </tr>\n",
              "  </tbody>\n",
              "</table>\n",
              "</div>\n",
              "      <button class=\"colab-df-convert\" onclick=\"convertToInteractive('df-d121914c-945f-4783-a173-71030fa05923')\"\n",
              "              title=\"Convert this dataframe to an interactive table.\"\n",
              "              style=\"display:none;\">\n",
              "        \n",
              "  <svg xmlns=\"http://www.w3.org/2000/svg\" height=\"24px\"viewBox=\"0 0 24 24\"\n",
              "       width=\"24px\">\n",
              "    <path d=\"M0 0h24v24H0V0z\" fill=\"none\"/>\n",
              "    <path d=\"M18.56 5.44l.94 2.06.94-2.06 2.06-.94-2.06-.94-.94-2.06-.94 2.06-2.06.94zm-11 1L8.5 8.5l.94-2.06 2.06-.94-2.06-.94L8.5 2.5l-.94 2.06-2.06.94zm10 10l.94 2.06.94-2.06 2.06-.94-2.06-.94-.94-2.06-.94 2.06-2.06.94z\"/><path d=\"M17.41 7.96l-1.37-1.37c-.4-.4-.92-.59-1.43-.59-.52 0-1.04.2-1.43.59L10.3 9.45l-7.72 7.72c-.78.78-.78 2.05 0 2.83L4 21.41c.39.39.9.59 1.41.59.51 0 1.02-.2 1.41-.59l7.78-7.78 2.81-2.81c.8-.78.8-2.07 0-2.86zM5.41 20L4 18.59l7.72-7.72 1.47 1.35L5.41 20z\"/>\n",
              "  </svg>\n",
              "      </button>\n",
              "      \n",
              "  <style>\n",
              "    .colab-df-container {\n",
              "      display:flex;\n",
              "      flex-wrap:wrap;\n",
              "      gap: 12px;\n",
              "    }\n",
              "\n",
              "    .colab-df-convert {\n",
              "      background-color: #E8F0FE;\n",
              "      border: none;\n",
              "      border-radius: 50%;\n",
              "      cursor: pointer;\n",
              "      display: none;\n",
              "      fill: #1967D2;\n",
              "      height: 32px;\n",
              "      padding: 0 0 0 0;\n",
              "      width: 32px;\n",
              "    }\n",
              "\n",
              "    .colab-df-convert:hover {\n",
              "      background-color: #E2EBFA;\n",
              "      box-shadow: 0px 1px 2px rgba(60, 64, 67, 0.3), 0px 1px 3px 1px rgba(60, 64, 67, 0.15);\n",
              "      fill: #174EA6;\n",
              "    }\n",
              "\n",
              "    [theme=dark] .colab-df-convert {\n",
              "      background-color: #3B4455;\n",
              "      fill: #D2E3FC;\n",
              "    }\n",
              "\n",
              "    [theme=dark] .colab-df-convert:hover {\n",
              "      background-color: #434B5C;\n",
              "      box-shadow: 0px 1px 3px 1px rgba(0, 0, 0, 0.15);\n",
              "      filter: drop-shadow(0px 1px 2px rgba(0, 0, 0, 0.3));\n",
              "      fill: #FFFFFF;\n",
              "    }\n",
              "  </style>\n",
              "\n",
              "      <script>\n",
              "        const buttonEl =\n",
              "          document.querySelector('#df-d121914c-945f-4783-a173-71030fa05923 button.colab-df-convert');\n",
              "        buttonEl.style.display =\n",
              "          google.colab.kernel.accessAllowed ? 'block' : 'none';\n",
              "\n",
              "        async function convertToInteractive(key) {\n",
              "          const element = document.querySelector('#df-d121914c-945f-4783-a173-71030fa05923');\n",
              "          const dataTable =\n",
              "            await google.colab.kernel.invokeFunction('convertToInteractive',\n",
              "                                                     [key], {});\n",
              "          if (!dataTable) return;\n",
              "\n",
              "          const docLinkHtml = 'Like what you see? Visit the ' +\n",
              "            '<a target=\"_blank\" href=https://colab.research.google.com/notebooks/data_table.ipynb>data table notebook</a>'\n",
              "            + ' to learn more about interactive tables.';\n",
              "          element.innerHTML = '';\n",
              "          dataTable['output_type'] = 'display_data';\n",
              "          await google.colab.output.renderOutput(dataTable, element);\n",
              "          const docLink = document.createElement('div');\n",
              "          docLink.innerHTML = docLinkHtml;\n",
              "          element.appendChild(docLink);\n",
              "        }\n",
              "      </script>\n",
              "    </div>\n",
              "  </div>\n",
              "  "
            ]
          },
          "metadata": {},
          "execution_count": 5
        }
      ],
      "source": [
        "pima.columns = ['pregnancies','glucose','blood_pressure','skin_thickness','insulin','bmi','diabetics_pedigree','age','outcome']\n",
        "pima.head(5)"
      ]
    },
    {
      "cell_type": "markdown",
      "metadata": {
        "id": "6IUr9rVvTWR0"
      },
      "source": [
        "## **DATA EXPLORATION**"
      ]
    },
    {
      "cell_type": "code",
      "execution_count": null,
      "metadata": {
        "colab": {
          "base_uri": "https://localhost:8080/"
        },
        "id": "S49TaN26TbC7",
        "outputId": "21810d4f-07c7-43c0-abe4-c825bc9fa1fb"
      },
      "outputs": [
        {
          "output_type": "stream",
          "name": "stdout",
          "text": [
            "pregnancies           0\n",
            "glucose               0\n",
            "blood_pressure        0\n",
            "skin_thickness        0\n",
            "insulin               0\n",
            "bmi                   0\n",
            "diabetics_pedigree    0\n",
            "age                   0\n",
            "outcome               0\n",
            "dtype: int64\n"
          ]
        }
      ],
      "source": [
        "print(pima.isnull().sum())"
      ]
    },
    {
      "cell_type": "code",
      "execution_count": null,
      "metadata": {
        "id": "znUJjMQJXxyr"
      },
      "outputs": [],
      "source": [
        "#pima.drop(labels='pregnancies',axis=1,inplace=True)"
      ]
    },
    {
      "cell_type": "code",
      "execution_count": null,
      "metadata": {
        "colab": {
          "base_uri": "https://localhost:8080/",
          "height": 424
        },
        "id": "HP6RIoscr258",
        "outputId": "bc445f66-4697-41e2-dfc8-c898134936af"
      },
      "outputs": [
        {
          "output_type": "execute_result",
          "data": {
            "text/plain": [
              "     pregnancies  glucose  blood_pressure  skin_thickness  insulin   bmi  \\\n",
              "0              6      148              72              35        0  33.6   \n",
              "1              1       85              66              29        0  26.6   \n",
              "2              8      183              64               0        0  23.3   \n",
              "3              1       89              66              23       94  28.1   \n",
              "4              0      137              40              35      168  43.1   \n",
              "..           ...      ...             ...             ...      ...   ...   \n",
              "763           10      101              76              48      180  32.9   \n",
              "764            2      122              70              27        0  36.8   \n",
              "765            5      121              72              23      112  26.2   \n",
              "766            1      126              60               0        0  30.1   \n",
              "767            1       93              70              31        0  30.4   \n",
              "\n",
              "     diabetics_pedigree  age  outcome  \n",
              "0                 0.627   50        1  \n",
              "1                 0.351   31        0  \n",
              "2                 0.672   32        1  \n",
              "3                 0.167   21        0  \n",
              "4                 2.288   33        1  \n",
              "..                  ...  ...      ...  \n",
              "763               0.171   63        0  \n",
              "764               0.340   27        0  \n",
              "765               0.245   30        0  \n",
              "766               0.349   47        1  \n",
              "767               0.315   23        0  \n",
              "\n",
              "[768 rows x 9 columns]"
            ],
            "text/html": [
              "\n",
              "  <div id=\"df-7aad2f0c-dd0c-4fb8-8740-ef062be1bd1f\">\n",
              "    <div class=\"colab-df-container\">\n",
              "      <div>\n",
              "<style scoped>\n",
              "    .dataframe tbody tr th:only-of-type {\n",
              "        vertical-align: middle;\n",
              "    }\n",
              "\n",
              "    .dataframe tbody tr th {\n",
              "        vertical-align: top;\n",
              "    }\n",
              "\n",
              "    .dataframe thead th {\n",
              "        text-align: right;\n",
              "    }\n",
              "</style>\n",
              "<table border=\"1\" class=\"dataframe\">\n",
              "  <thead>\n",
              "    <tr style=\"text-align: right;\">\n",
              "      <th></th>\n",
              "      <th>pregnancies</th>\n",
              "      <th>glucose</th>\n",
              "      <th>blood_pressure</th>\n",
              "      <th>skin_thickness</th>\n",
              "      <th>insulin</th>\n",
              "      <th>bmi</th>\n",
              "      <th>diabetics_pedigree</th>\n",
              "      <th>age</th>\n",
              "      <th>outcome</th>\n",
              "    </tr>\n",
              "  </thead>\n",
              "  <tbody>\n",
              "    <tr>\n",
              "      <th>0</th>\n",
              "      <td>6</td>\n",
              "      <td>148</td>\n",
              "      <td>72</td>\n",
              "      <td>35</td>\n",
              "      <td>0</td>\n",
              "      <td>33.6</td>\n",
              "      <td>0.627</td>\n",
              "      <td>50</td>\n",
              "      <td>1</td>\n",
              "    </tr>\n",
              "    <tr>\n",
              "      <th>1</th>\n",
              "      <td>1</td>\n",
              "      <td>85</td>\n",
              "      <td>66</td>\n",
              "      <td>29</td>\n",
              "      <td>0</td>\n",
              "      <td>26.6</td>\n",
              "      <td>0.351</td>\n",
              "      <td>31</td>\n",
              "      <td>0</td>\n",
              "    </tr>\n",
              "    <tr>\n",
              "      <th>2</th>\n",
              "      <td>8</td>\n",
              "      <td>183</td>\n",
              "      <td>64</td>\n",
              "      <td>0</td>\n",
              "      <td>0</td>\n",
              "      <td>23.3</td>\n",
              "      <td>0.672</td>\n",
              "      <td>32</td>\n",
              "      <td>1</td>\n",
              "    </tr>\n",
              "    <tr>\n",
              "      <th>3</th>\n",
              "      <td>1</td>\n",
              "      <td>89</td>\n",
              "      <td>66</td>\n",
              "      <td>23</td>\n",
              "      <td>94</td>\n",
              "      <td>28.1</td>\n",
              "      <td>0.167</td>\n",
              "      <td>21</td>\n",
              "      <td>0</td>\n",
              "    </tr>\n",
              "    <tr>\n",
              "      <th>4</th>\n",
              "      <td>0</td>\n",
              "      <td>137</td>\n",
              "      <td>40</td>\n",
              "      <td>35</td>\n",
              "      <td>168</td>\n",
              "      <td>43.1</td>\n",
              "      <td>2.288</td>\n",
              "      <td>33</td>\n",
              "      <td>1</td>\n",
              "    </tr>\n",
              "    <tr>\n",
              "      <th>...</th>\n",
              "      <td>...</td>\n",
              "      <td>...</td>\n",
              "      <td>...</td>\n",
              "      <td>...</td>\n",
              "      <td>...</td>\n",
              "      <td>...</td>\n",
              "      <td>...</td>\n",
              "      <td>...</td>\n",
              "      <td>...</td>\n",
              "    </tr>\n",
              "    <tr>\n",
              "      <th>763</th>\n",
              "      <td>10</td>\n",
              "      <td>101</td>\n",
              "      <td>76</td>\n",
              "      <td>48</td>\n",
              "      <td>180</td>\n",
              "      <td>32.9</td>\n",
              "      <td>0.171</td>\n",
              "      <td>63</td>\n",
              "      <td>0</td>\n",
              "    </tr>\n",
              "    <tr>\n",
              "      <th>764</th>\n",
              "      <td>2</td>\n",
              "      <td>122</td>\n",
              "      <td>70</td>\n",
              "      <td>27</td>\n",
              "      <td>0</td>\n",
              "      <td>36.8</td>\n",
              "      <td>0.340</td>\n",
              "      <td>27</td>\n",
              "      <td>0</td>\n",
              "    </tr>\n",
              "    <tr>\n",
              "      <th>765</th>\n",
              "      <td>5</td>\n",
              "      <td>121</td>\n",
              "      <td>72</td>\n",
              "      <td>23</td>\n",
              "      <td>112</td>\n",
              "      <td>26.2</td>\n",
              "      <td>0.245</td>\n",
              "      <td>30</td>\n",
              "      <td>0</td>\n",
              "    </tr>\n",
              "    <tr>\n",
              "      <th>766</th>\n",
              "      <td>1</td>\n",
              "      <td>126</td>\n",
              "      <td>60</td>\n",
              "      <td>0</td>\n",
              "      <td>0</td>\n",
              "      <td>30.1</td>\n",
              "      <td>0.349</td>\n",
              "      <td>47</td>\n",
              "      <td>1</td>\n",
              "    </tr>\n",
              "    <tr>\n",
              "      <th>767</th>\n",
              "      <td>1</td>\n",
              "      <td>93</td>\n",
              "      <td>70</td>\n",
              "      <td>31</td>\n",
              "      <td>0</td>\n",
              "      <td>30.4</td>\n",
              "      <td>0.315</td>\n",
              "      <td>23</td>\n",
              "      <td>0</td>\n",
              "    </tr>\n",
              "  </tbody>\n",
              "</table>\n",
              "<p>768 rows × 9 columns</p>\n",
              "</div>\n",
              "      <button class=\"colab-df-convert\" onclick=\"convertToInteractive('df-7aad2f0c-dd0c-4fb8-8740-ef062be1bd1f')\"\n",
              "              title=\"Convert this dataframe to an interactive table.\"\n",
              "              style=\"display:none;\">\n",
              "        \n",
              "  <svg xmlns=\"http://www.w3.org/2000/svg\" height=\"24px\"viewBox=\"0 0 24 24\"\n",
              "       width=\"24px\">\n",
              "    <path d=\"M0 0h24v24H0V0z\" fill=\"none\"/>\n",
              "    <path d=\"M18.56 5.44l.94 2.06.94-2.06 2.06-.94-2.06-.94-.94-2.06-.94 2.06-2.06.94zm-11 1L8.5 8.5l.94-2.06 2.06-.94-2.06-.94L8.5 2.5l-.94 2.06-2.06.94zm10 10l.94 2.06.94-2.06 2.06-.94-2.06-.94-.94-2.06-.94 2.06-2.06.94z\"/><path d=\"M17.41 7.96l-1.37-1.37c-.4-.4-.92-.59-1.43-.59-.52 0-1.04.2-1.43.59L10.3 9.45l-7.72 7.72c-.78.78-.78 2.05 0 2.83L4 21.41c.39.39.9.59 1.41.59.51 0 1.02-.2 1.41-.59l7.78-7.78 2.81-2.81c.8-.78.8-2.07 0-2.86zM5.41 20L4 18.59l7.72-7.72 1.47 1.35L5.41 20z\"/>\n",
              "  </svg>\n",
              "      </button>\n",
              "      \n",
              "  <style>\n",
              "    .colab-df-container {\n",
              "      display:flex;\n",
              "      flex-wrap:wrap;\n",
              "      gap: 12px;\n",
              "    }\n",
              "\n",
              "    .colab-df-convert {\n",
              "      background-color: #E8F0FE;\n",
              "      border: none;\n",
              "      border-radius: 50%;\n",
              "      cursor: pointer;\n",
              "      display: none;\n",
              "      fill: #1967D2;\n",
              "      height: 32px;\n",
              "      padding: 0 0 0 0;\n",
              "      width: 32px;\n",
              "    }\n",
              "\n",
              "    .colab-df-convert:hover {\n",
              "      background-color: #E2EBFA;\n",
              "      box-shadow: 0px 1px 2px rgba(60, 64, 67, 0.3), 0px 1px 3px 1px rgba(60, 64, 67, 0.15);\n",
              "      fill: #174EA6;\n",
              "    }\n",
              "\n",
              "    [theme=dark] .colab-df-convert {\n",
              "      background-color: #3B4455;\n",
              "      fill: #D2E3FC;\n",
              "    }\n",
              "\n",
              "    [theme=dark] .colab-df-convert:hover {\n",
              "      background-color: #434B5C;\n",
              "      box-shadow: 0px 1px 3px 1px rgba(0, 0, 0, 0.15);\n",
              "      filter: drop-shadow(0px 1px 2px rgba(0, 0, 0, 0.3));\n",
              "      fill: #FFFFFF;\n",
              "    }\n",
              "  </style>\n",
              "\n",
              "      <script>\n",
              "        const buttonEl =\n",
              "          document.querySelector('#df-7aad2f0c-dd0c-4fb8-8740-ef062be1bd1f button.colab-df-convert');\n",
              "        buttonEl.style.display =\n",
              "          google.colab.kernel.accessAllowed ? 'block' : 'none';\n",
              "\n",
              "        async function convertToInteractive(key) {\n",
              "          const element = document.querySelector('#df-7aad2f0c-dd0c-4fb8-8740-ef062be1bd1f');\n",
              "          const dataTable =\n",
              "            await google.colab.kernel.invokeFunction('convertToInteractive',\n",
              "                                                     [key], {});\n",
              "          if (!dataTable) return;\n",
              "\n",
              "          const docLinkHtml = 'Like what you see? Visit the ' +\n",
              "            '<a target=\"_blank\" href=https://colab.research.google.com/notebooks/data_table.ipynb>data table notebook</a>'\n",
              "            + ' to learn more about interactive tables.';\n",
              "          element.innerHTML = '';\n",
              "          dataTable['output_type'] = 'display_data';\n",
              "          await google.colab.output.renderOutput(dataTable, element);\n",
              "          const docLink = document.createElement('div');\n",
              "          docLink.innerHTML = docLinkHtml;\n",
              "          element.appendChild(docLink);\n",
              "        }\n",
              "      </script>\n",
              "    </div>\n",
              "  </div>\n",
              "  "
            ]
          },
          "metadata": {},
          "execution_count": 5
        }
      ],
      "source": [
        "pima"
      ]
    },
    {
      "cell_type": "code",
      "execution_count": null,
      "metadata": {
        "colab": {
          "base_uri": "https://localhost:8080/"
        },
        "id": "Wr2hQEuGT7vm",
        "outputId": "0883c17f-5dc5-4f73-fc5d-21b44da8ab1c"
      },
      "outputs": [
        {
          "output_type": "stream",
          "name": "stdout",
          "text": [
            "<class 'pandas.core.frame.DataFrame'>\n",
            "RangeIndex: 768 entries, 0 to 767\n",
            "Data columns (total 9 columns):\n",
            " #   Column              Non-Null Count  Dtype  \n",
            "---  ------              --------------  -----  \n",
            " 0   pregnancies         768 non-null    int64  \n",
            " 1   glucose             768 non-null    float64\n",
            " 2   blood_pressure      768 non-null    float64\n",
            " 3   skin_thickness      768 non-null    float64\n",
            " 4   insulin             768 non-null    float64\n",
            " 5   bmi                 768 non-null    float64\n",
            " 6   diabetics_pedigree  768 non-null    float64\n",
            " 7   age                 768 non-null    int64  \n",
            " 8   outcome             768 non-null    int64  \n",
            "dtypes: float64(6), int64(3)\n",
            "memory usage: 54.1 KB\n"
          ]
        }
      ],
      "source": [
        "pima.info()"
      ]
    },
    {
      "cell_type": "code",
      "execution_count": null,
      "metadata": {
        "colab": {
          "base_uri": "https://localhost:8080/",
          "height": 301
        },
        "id": "kwPjWNmUUHrJ",
        "outputId": "836a5ec6-9e95-456b-f7d4-2b941d4ea9ee"
      },
      "outputs": [
        {
          "data": {
            "text/html": [
              "\n",
              "  <div id=\"df-481596b3-a34f-4a77-9321-8062bd0de117\">\n",
              "    <div class=\"colab-df-container\">\n",
              "      <div>\n",
              "<style scoped>\n",
              "    .dataframe tbody tr th:only-of-type {\n",
              "        vertical-align: middle;\n",
              "    }\n",
              "\n",
              "    .dataframe tbody tr th {\n",
              "        vertical-align: top;\n",
              "    }\n",
              "\n",
              "    .dataframe thead th {\n",
              "        text-align: right;\n",
              "    }\n",
              "</style>\n",
              "<table border=\"1\" class=\"dataframe\">\n",
              "  <thead>\n",
              "    <tr style=\"text-align: right;\">\n",
              "      <th></th>\n",
              "      <th>glucose</th>\n",
              "      <th>blood_pressure</th>\n",
              "      <th>skin_thickness</th>\n",
              "      <th>insulin</th>\n",
              "      <th>bmi</th>\n",
              "      <th>diabetics_pedigree</th>\n",
              "      <th>age</th>\n",
              "      <th>outcome</th>\n",
              "    </tr>\n",
              "  </thead>\n",
              "  <tbody>\n",
              "    <tr>\n",
              "      <th>glucose</th>\n",
              "      <td>100.000000</td>\n",
              "      <td>15.827930</td>\n",
              "      <td>7.493412</td>\n",
              "      <td>33.118988</td>\n",
              "      <td>23.514666</td>\n",
              "      <td>13.710636</td>\n",
              "      <td>26.659989</td>\n",
              "      <td>49.290843</td>\n",
              "    </tr>\n",
              "    <tr>\n",
              "      <th>blood_pressure</th>\n",
              "      <td>15.827930</td>\n",
              "      <td>100.000000</td>\n",
              "      <td>20.737054</td>\n",
              "      <td>8.893338</td>\n",
              "      <td>28.180529</td>\n",
              "      <td>4.126495</td>\n",
              "      <td>23.952795</td>\n",
              "      <td>6.506836</td>\n",
              "    </tr>\n",
              "    <tr>\n",
              "      <th>skin_thickness</th>\n",
              "      <td>7.493412</td>\n",
              "      <td>20.737054</td>\n",
              "      <td>100.000000</td>\n",
              "      <td>43.678257</td>\n",
              "      <td>39.257320</td>\n",
              "      <td>18.392757</td>\n",
              "      <td>-11.397026</td>\n",
              "      <td>7.475223</td>\n",
              "    </tr>\n",
              "    <tr>\n",
              "      <th>insulin</th>\n",
              "      <td>33.118988</td>\n",
              "      <td>8.893338</td>\n",
              "      <td>43.678257</td>\n",
              "      <td>100.000000</td>\n",
              "      <td>19.785906</td>\n",
              "      <td>18.507093</td>\n",
              "      <td>-4.216295</td>\n",
              "      <td>13.054795</td>\n",
              "    </tr>\n",
              "    <tr>\n",
              "      <th>bmi</th>\n",
              "      <td>23.514666</td>\n",
              "      <td>28.180529</td>\n",
              "      <td>39.257320</td>\n",
              "      <td>19.785906</td>\n",
              "      <td>100.000000</td>\n",
              "      <td>14.064695</td>\n",
              "      <td>3.624187</td>\n",
              "      <td>29.269466</td>\n",
              "    </tr>\n",
              "    <tr>\n",
              "      <th>diabetics_pedigree</th>\n",
              "      <td>13.710636</td>\n",
              "      <td>4.126495</td>\n",
              "      <td>18.392757</td>\n",
              "      <td>18.507093</td>\n",
              "      <td>14.064695</td>\n",
              "      <td>100.000000</td>\n",
              "      <td>3.356131</td>\n",
              "      <td>17.384407</td>\n",
              "    </tr>\n",
              "    <tr>\n",
              "      <th>age</th>\n",
              "      <td>26.659989</td>\n",
              "      <td>23.952795</td>\n",
              "      <td>-11.397026</td>\n",
              "      <td>-4.216295</td>\n",
              "      <td>3.624187</td>\n",
              "      <td>3.356131</td>\n",
              "      <td>100.000000</td>\n",
              "      <td>23.835598</td>\n",
              "    </tr>\n",
              "    <tr>\n",
              "      <th>outcome</th>\n",
              "      <td>49.290843</td>\n",
              "      <td>6.506836</td>\n",
              "      <td>7.475223</td>\n",
              "      <td>13.054795</td>\n",
              "      <td>29.269466</td>\n",
              "      <td>17.384407</td>\n",
              "      <td>23.835598</td>\n",
              "      <td>100.000000</td>\n",
              "    </tr>\n",
              "  </tbody>\n",
              "</table>\n",
              "</div>\n",
              "      <button class=\"colab-df-convert\" onclick=\"convertToInteractive('df-481596b3-a34f-4a77-9321-8062bd0de117')\"\n",
              "              title=\"Convert this dataframe to an interactive table.\"\n",
              "              style=\"display:none;\">\n",
              "        \n",
              "  <svg xmlns=\"http://www.w3.org/2000/svg\" height=\"24px\"viewBox=\"0 0 24 24\"\n",
              "       width=\"24px\">\n",
              "    <path d=\"M0 0h24v24H0V0z\" fill=\"none\"/>\n",
              "    <path d=\"M18.56 5.44l.94 2.06.94-2.06 2.06-.94-2.06-.94-.94-2.06-.94 2.06-2.06.94zm-11 1L8.5 8.5l.94-2.06 2.06-.94-2.06-.94L8.5 2.5l-.94 2.06-2.06.94zm10 10l.94 2.06.94-2.06 2.06-.94-2.06-.94-.94-2.06-.94 2.06-2.06.94z\"/><path d=\"M17.41 7.96l-1.37-1.37c-.4-.4-.92-.59-1.43-.59-.52 0-1.04.2-1.43.59L10.3 9.45l-7.72 7.72c-.78.78-.78 2.05 0 2.83L4 21.41c.39.39.9.59 1.41.59.51 0 1.02-.2 1.41-.59l7.78-7.78 2.81-2.81c.8-.78.8-2.07 0-2.86zM5.41 20L4 18.59l7.72-7.72 1.47 1.35L5.41 20z\"/>\n",
              "  </svg>\n",
              "      </button>\n",
              "      \n",
              "  <style>\n",
              "    .colab-df-container {\n",
              "      display:flex;\n",
              "      flex-wrap:wrap;\n",
              "      gap: 12px;\n",
              "    }\n",
              "\n",
              "    .colab-df-convert {\n",
              "      background-color: #E8F0FE;\n",
              "      border: none;\n",
              "      border-radius: 50%;\n",
              "      cursor: pointer;\n",
              "      display: none;\n",
              "      fill: #1967D2;\n",
              "      height: 32px;\n",
              "      padding: 0 0 0 0;\n",
              "      width: 32px;\n",
              "    }\n",
              "\n",
              "    .colab-df-convert:hover {\n",
              "      background-color: #E2EBFA;\n",
              "      box-shadow: 0px 1px 2px rgba(60, 64, 67, 0.3), 0px 1px 3px 1px rgba(60, 64, 67, 0.15);\n",
              "      fill: #174EA6;\n",
              "    }\n",
              "\n",
              "    [theme=dark] .colab-df-convert {\n",
              "      background-color: #3B4455;\n",
              "      fill: #D2E3FC;\n",
              "    }\n",
              "\n",
              "    [theme=dark] .colab-df-convert:hover {\n",
              "      background-color: #434B5C;\n",
              "      box-shadow: 0px 1px 3px 1px rgba(0, 0, 0, 0.15);\n",
              "      filter: drop-shadow(0px 1px 2px rgba(0, 0, 0, 0.3));\n",
              "      fill: #FFFFFF;\n",
              "    }\n",
              "  </style>\n",
              "\n",
              "      <script>\n",
              "        const buttonEl =\n",
              "          document.querySelector('#df-481596b3-a34f-4a77-9321-8062bd0de117 button.colab-df-convert');\n",
              "        buttonEl.style.display =\n",
              "          google.colab.kernel.accessAllowed ? 'block' : 'none';\n",
              "\n",
              "        async function convertToInteractive(key) {\n",
              "          const element = document.querySelector('#df-481596b3-a34f-4a77-9321-8062bd0de117');\n",
              "          const dataTable =\n",
              "            await google.colab.kernel.invokeFunction('convertToInteractive',\n",
              "                                                     [key], {});\n",
              "          if (!dataTable) return;\n",
              "\n",
              "          const docLinkHtml = 'Like what you see? Visit the ' +\n",
              "            '<a target=\"_blank\" href=https://colab.research.google.com/notebooks/data_table.ipynb>data table notebook</a>'\n",
              "            + ' to learn more about interactive tables.';\n",
              "          element.innerHTML = '';\n",
              "          dataTable['output_type'] = 'display_data';\n",
              "          await google.colab.output.renderOutput(dataTable, element);\n",
              "          const docLink = document.createElement('div');\n",
              "          docLink.innerHTML = docLinkHtml;\n",
              "          element.appendChild(docLink);\n",
              "        }\n",
              "      </script>\n",
              "    </div>\n",
              "  </div>\n",
              "  "
            ],
            "text/plain": [
              "                       glucose  blood_pressure  skin_thickness     insulin  \\\n",
              "glucose             100.000000       15.827930        7.493412   33.118988   \n",
              "blood_pressure       15.827930      100.000000       20.737054    8.893338   \n",
              "skin_thickness        7.493412       20.737054      100.000000   43.678257   \n",
              "insulin              33.118988        8.893338       43.678257  100.000000   \n",
              "bmi                  23.514666       28.180529       39.257320   19.785906   \n",
              "diabetics_pedigree   13.710636        4.126495       18.392757   18.507093   \n",
              "age                  26.659989       23.952795      -11.397026   -4.216295   \n",
              "outcome              49.290843        6.506836        7.475223   13.054795   \n",
              "\n",
              "                           bmi  diabetics_pedigree         age     outcome  \n",
              "glucose              23.514666           13.710636   26.659989   49.290843  \n",
              "blood_pressure       28.180529            4.126495   23.952795    6.506836  \n",
              "skin_thickness       39.257320           18.392757  -11.397026    7.475223  \n",
              "insulin              19.785906           18.507093   -4.216295   13.054795  \n",
              "bmi                 100.000000           14.064695    3.624187   29.269466  \n",
              "diabetics_pedigree   14.064695          100.000000    3.356131   17.384407  \n",
              "age                   3.624187            3.356131  100.000000   23.835598  \n",
              "outcome              29.269466           17.384407   23.835598  100.000000  "
            ]
          },
          "execution_count": 40,
          "metadata": {},
          "output_type": "execute_result"
        }
      ],
      "source": [
        "pima.corr()*100"
      ]
    },
    {
      "cell_type": "code",
      "execution_count": null,
      "metadata": {
        "colab": {
          "base_uri": "https://localhost:8080/",
          "height": 372
        },
        "id": "YDrSdGO6XNw4",
        "outputId": "83e16f2d-a7c0-4e02-dcff-57d085d59c84"
      },
      "outputs": [
        {
          "data": {
            "text/plain": [
              "<matplotlib.axes._subplots.AxesSubplot at 0x7f247c575e90>"
            ]
          },
          "execution_count": 20,
          "metadata": {},
          "output_type": "execute_result"
        },
        {
          "data": {
            "image/png": "[encoded data removed]",
            "text/plain": [
              "<Figure size 432x288 with 2 Axes>"
            ]
          },
          "metadata": {},
          "output_type": "display_data"
        }
      ],
      "source": [
        "sns.heatmap(pima.corr()*100)"
      ]
    },
    {
      "cell_type": "code",
      "execution_count": null,
      "metadata": {
        "colab": {
          "base_uri": "https://localhost:8080/",
          "height": 300
        },
        "id": "Fcz9qDpfXwP1",
        "outputId": "1d843f0b-66f3-4291-e2ba-84362c1d0e4c"
      },
      "outputs": [
        {
          "output_type": "execute_result",
          "data": {
            "text/plain": [
              "       pregnancies     glucose  blood_pressure  skin_thickness     insulin  \\\n",
              "count   768.000000  768.000000      768.000000      768.000000  768.000000   \n",
              "mean      3.845052  121.681605       72.254807       26.606479  118.660163   \n",
              "std       3.369578   30.436016       12.115932        9.631241   93.080358   \n",
              "min       0.000000   44.000000       24.000000        7.000000   14.000000   \n",
              "25%       1.000000   99.750000       64.000000       20.536458   79.799479   \n",
              "50%       3.000000  117.000000       72.000000       23.000000   79.799479   \n",
              "75%       6.000000  140.250000       80.000000       32.000000  127.250000   \n",
              "max      17.000000  199.000000      122.000000       99.000000  846.000000   \n",
              "\n",
              "              bmi  diabetics_pedigree         age     outcome  \n",
              "count  768.000000          768.000000  768.000000  768.000000  \n",
              "mean    32.450805            0.471876   33.240885    0.348958  \n",
              "std      6.875374            0.331329   11.760232    0.476951  \n",
              "min     18.200000            0.078000   21.000000    0.000000  \n",
              "25%     27.500000            0.243750   24.000000    0.000000  \n",
              "50%     32.000000            0.372500   29.000000    0.000000  \n",
              "75%     36.600000            0.626250   41.000000    1.000000  \n",
              "max     67.100000            2.420000   81.000000    1.000000  "
            ],
            "text/html": [
              "\n",
              "  <div id=\"df-804a221b-e837-43ea-87a0-ae53cbabcc57\">\n",
              "    <div class=\"colab-df-container\">\n",
              "      <div>\n",
              "<style scoped>\n",
              "    .dataframe tbody tr th:only-of-type {\n",
              "        vertical-align: middle;\n",
              "    }\n",
              "\n",
              "    .dataframe tbody tr th {\n",
              "        vertical-align: top;\n",
              "    }\n",
              "\n",
              "    .dataframe thead th {\n",
              "        text-align: right;\n",
              "    }\n",
              "</style>\n",
              "<table border=\"1\" class=\"dataframe\">\n",
              "  <thead>\n",
              "    <tr style=\"text-align: right;\">\n",
              "      <th></th>\n",
              "      <th>pregnancies</th>\n",
              "      <th>glucose</th>\n",
              "      <th>blood_pressure</th>\n",
              "      <th>skin_thickness</th>\n",
              "      <th>insulin</th>\n",
              "      <th>bmi</th>\n",
              "      <th>diabetics_pedigree</th>\n",
              "      <th>age</th>\n",
              "      <th>outcome</th>\n",
              "    </tr>\n",
              "  </thead>\n",
              "  <tbody>\n",
              "    <tr>\n",
              "      <th>count</th>\n",
              "      <td>768.000000</td>\n",
              "      <td>768.000000</td>\n",
              "      <td>768.000000</td>\n",
              "      <td>768.000000</td>\n",
              "      <td>768.000000</td>\n",
              "      <td>768.000000</td>\n",
              "      <td>768.000000</td>\n",
              "      <td>768.000000</td>\n",
              "      <td>768.000000</td>\n",
              "    </tr>\n",
              "    <tr>\n",
              "      <th>mean</th>\n",
              "      <td>3.845052</td>\n",
              "      <td>121.681605</td>\n",
              "      <td>72.254807</td>\n",
              "      <td>26.606479</td>\n",
              "      <td>118.660163</td>\n",
              "      <td>32.450805</td>\n",
              "      <td>0.471876</td>\n",
              "      <td>33.240885</td>\n",
              "      <td>0.348958</td>\n",
              "    </tr>\n",
              "    <tr>\n",
              "      <th>std</th>\n",
              "      <td>3.369578</td>\n",
              "      <td>30.436016</td>\n",
              "      <td>12.115932</td>\n",
              "      <td>9.631241</td>\n",
              "      <td>93.080358</td>\n",
              "      <td>6.875374</td>\n",
              "      <td>0.331329</td>\n",
              "      <td>11.760232</td>\n",
              "      <td>0.476951</td>\n",
              "    </tr>\n",
              "    <tr>\n",
              "      <th>min</th>\n",
              "      <td>0.000000</td>\n",
              "      <td>44.000000</td>\n",
              "      <td>24.000000</td>\n",
              "      <td>7.000000</td>\n",
              "      <td>14.000000</td>\n",
              "      <td>18.200000</td>\n",
              "      <td>0.078000</td>\n",
              "      <td>21.000000</td>\n",
              "      <td>0.000000</td>\n",
              "    </tr>\n",
              "    <tr>\n",
              "      <th>25%</th>\n",
              "      <td>1.000000</td>\n",
              "      <td>99.750000</td>\n",
              "      <td>64.000000</td>\n",
              "      <td>20.536458</td>\n",
              "      <td>79.799479</td>\n",
              "      <td>27.500000</td>\n",
              "      <td>0.243750</td>\n",
              "      <td>24.000000</td>\n",
              "      <td>0.000000</td>\n",
              "    </tr>\n",
              "    <tr>\n",
              "      <th>50%</th>\n",
              "      <td>3.000000</td>\n",
              "      <td>117.000000</td>\n",
              "      <td>72.000000</td>\n",
              "      <td>23.000000</td>\n",
              "      <td>79.799479</td>\n",
              "      <td>32.000000</td>\n",
              "      <td>0.372500</td>\n",
              "      <td>29.000000</td>\n",
              "      <td>0.000000</td>\n",
              "    </tr>\n",
              "    <tr>\n",
              "      <th>75%</th>\n",
              "      <td>6.000000</td>\n",
              "      <td>140.250000</td>\n",
              "      <td>80.000000</td>\n",
              "      <td>32.000000</td>\n",
              "      <td>127.250000</td>\n",
              "      <td>36.600000</td>\n",
              "      <td>0.626250</td>\n",
              "      <td>41.000000</td>\n",
              "      <td>1.000000</td>\n",
              "    </tr>\n",
              "    <tr>\n",
              "      <th>max</th>\n",
              "      <td>17.000000</td>\n",
              "      <td>199.000000</td>\n",
              "      <td>122.000000</td>\n",
              "      <td>99.000000</td>\n",
              "      <td>846.000000</td>\n",
              "      <td>67.100000</td>\n",
              "      <td>2.420000</td>\n",
              "      <td>81.000000</td>\n",
              "      <td>1.000000</td>\n",
              "    </tr>\n",
              "  </tbody>\n",
              "</table>\n",
              "</div>\n",
              "      <button class=\"colab-df-convert\" onclick=\"convertToInteractive('df-804a221b-e837-43ea-87a0-ae53cbabcc57')\"\n",
              "              title=\"Convert this dataframe to an interactive table.\"\n",
              "              style=\"display:none;\">\n",
              "        \n",
              "  <svg xmlns=\"http://www.w3.org/2000/svg\" height=\"24px\"viewBox=\"0 0 24 24\"\n",
              "       width=\"24px\">\n",
              "    <path d=\"M0 0h24v24H0V0z\" fill=\"none\"/>\n",
              "    <path d=\"M18.56 5.44l.94 2.06.94-2.06 2.06-.94-2.06-.94-.94-2.06-.94 2.06-2.06.94zm-11 1L8.5 8.5l.94-2.06 2.06-.94-2.06-.94L8.5 2.5l-.94 2.06-2.06.94zm10 10l.94 2.06.94-2.06 2.06-.94-2.06-.94-.94-2.06-.94 2.06-2.06.94z\"/><path d=\"M17.41 7.96l-1.37-1.37c-.4-.4-.92-.59-1.43-.59-.52 0-1.04.2-1.43.59L10.3 9.45l-7.72 7.72c-.78.78-.78 2.05 0 2.83L4 21.41c.39.39.9.59 1.41.59.51 0 1.02-.2 1.41-.59l7.78-7.78 2.81-2.81c.8-.78.8-2.07 0-2.86zM5.41 20L4 18.59l7.72-7.72 1.47 1.35L5.41 20z\"/>\n",
              "  </svg>\n",
              "      </button>\n",
              "      \n",
              "  <style>\n",
              "    .colab-df-container {\n",
              "      display:flex;\n",
              "      flex-wrap:wrap;\n",
              "      gap: 12px;\n",
              "    }\n",
              "\n",
              "    .colab-df-convert {\n",
              "      background-color: #E8F0FE;\n",
              "      border: none;\n",
              "      border-radius: 50%;\n",
              "      cursor: pointer;\n",
              "      display: none;\n",
              "      fill: #1967D2;\n",
              "      height: 32px;\n",
              "      padding: 0 0 0 0;\n",
              "      width: 32px;\n",
              "    }\n",
              "\n",
              "    .colab-df-convert:hover {\n",
              "      background-color: #E2EBFA;\n",
              "      box-shadow: 0px 1px 2px rgba(60, 64, 67, 0.3), 0px 1px 3px 1px rgba(60, 64, 67, 0.15);\n",
              "      fill: #174EA6;\n",
              "    }\n",
              "\n",
              "    [theme=dark] .colab-df-convert {\n",
              "      background-color: #3B4455;\n",
              "      fill: #D2E3FC;\n",
              "    }\n",
              "\n",
              "    [theme=dark] .colab-df-convert:hover {\n",
              "      background-color: #434B5C;\n",
              "      box-shadow: 0px 1px 3px 1px rgba(0, 0, 0, 0.15);\n",
              "      filter: drop-shadow(0px 1px 2px rgba(0, 0, 0, 0.3));\n",
              "      fill: #FFFFFF;\n",
              "    }\n",
              "  </style>\n",
              "\n",
              "      <script>\n",
              "        const buttonEl =\n",
              "          document.querySelector('#df-804a221b-e837-43ea-87a0-ae53cbabcc57 button.colab-df-convert');\n",
              "        buttonEl.style.display =\n",
              "          google.colab.kernel.accessAllowed ? 'block' : 'none';\n",
              "\n",
              "        async function convertToInteractive(key) {\n",
              "          const element = document.querySelector('#df-804a221b-e837-43ea-87a0-ae53cbabcc57');\n",
              "          const dataTable =\n",
              "            await google.colab.kernel.invokeFunction('convertToInteractive',\n",
              "                                                     [key], {});\n",
              "          if (!dataTable) return;\n",
              "\n",
              "          const docLinkHtml = 'Like what you see? Visit the ' +\n",
              "            '<a target=\"_blank\" href=https://colab.research.google.com/notebooks/data_table.ipynb>data table notebook</a>'\n",
              "            + ' to learn more about interactive tables.';\n",
              "          element.innerHTML = '';\n",
              "          dataTable['output_type'] = 'display_data';\n",
              "          await google.colab.output.renderOutput(dataTable, element);\n",
              "          const docLink = document.createElement('div');\n",
              "          docLink.innerHTML = docLinkHtml;\n",
              "          element.appendChild(docLink);\n",
              "        }\n",
              "      </script>\n",
              "    </div>\n",
              "  </div>\n",
              "  "
            ]
          },
          "metadata": {},
          "execution_count": 23
        }
      ],
      "source": [
        "pima.describe()"
      ]
    },
    {
      "cell_type": "code",
      "execution_count": null,
      "metadata": {
        "colab": {
          "base_uri": "https://localhost:8080/",
          "height": 841
        },
        "id": "1JuXVcoEYdBI",
        "outputId": "157a2d9e-3d4f-471f-d1d1-85a686fbbc99"
      },
      "outputs": [
        {
          "data": {
            "text/plain": [
              "<matplotlib.axes._subplots.AxesSubplot at 0x7f247c5e30d0>"
            ]
          },
          "execution_count": 27,
          "metadata": {},
          "output_type": "execute_result"
        },
        {
          "data": {
            "image/png": "[encoded data removed]",
            "text/plain": [
              "<Figure size 720x1008 with 9 Axes>"
            ]
          },
          "metadata": {},
          "output_type": "display_data"
        }
      ],
      "source": [
        "plt.figure(figsize=(10,14))\n",
        "plt.subplots_adjust(wspace=.55,hspace= .55) #wspace= Horizontal spacing of the plot #hspace= Vertical spacing\n",
        "plt.subplot(5,2,1)\n",
        "sns.kdeplot(data=pima.pregnancies , shade =True)\n",
        "plt.subplot(5,2,2)\n",
        "sns.kdeplot(data=pima.glucose)\n",
        "plt.subplot(5,2,3)\n",
        "sns.kdeplot(data=pima.blood_pressure)\n",
        "plt.subplot(5,2,4)\n",
        "sns.kdeplot(data=pima.skin_thickness)\n",
        "plt.subplot(5,2,5)\n",
        "sns.kdeplot(data=pima.insulin)\n",
        "plt.subplot(5,2,6)\n",
        "sns.kdeplot(data=pima.bmi)\n",
        "plt.subplot(5,2,7)\n",
        "sns.kdeplot(data=pima.diabetics_pedigree)\n",
        "plt.subplot(5,2,8)\n",
        "sns.kdeplot(data=pima.age)\n",
        "plt.subplot(5,2,9)\n",
        "sns.kdeplot(data=pima.outcome)\n",
        "\n"
      ]
    },
    {
      "cell_type": "code",
      "source": [
        "sns.countplot(pima.outcome)\n",
        "print('Data is imbalanced , we will try to balance it out in the next section')"
      ],
      "metadata": {
        "colab": {
          "base_uri": "https://localhost:8080/",
          "height": 351
        },
        "id": "_njw8zN9uvfi",
        "outputId": "47c90779-abd5-477a-f962-7523e88ed4a5"
      },
      "execution_count": null,
      "outputs": [
        {
          "output_type": "stream",
          "name": "stdout",
          "text": [
            "Data is imbalanced , we will try to balance it out in the next section\n"
          ]
        },
        {
          "output_type": "stream",
          "name": "stderr",
          "text": [
            "/usr/local/lib/python3.7/dist-packages/seaborn/_decorators.py:43: FutureWarning: Pass the following variable as a keyword arg: x. From version 0.12, the only valid positional argument will be `data`, and passing other arguments without an explicit keyword will result in an error or misinterpretation.\n",
            "  FutureWarning\n"
          ]
        },
        {
          "output_type": "display_data",
          "data": {
            "text/plain": [
              "<Figure size 432x288 with 1 Axes>"
            ],
            "image/png": "[encoded data removed]"
          },
          "metadata": {
            "needs_background": "light"
          }
        }
      ]
    },
    {
      "cell_type": "markdown",
      "source": [
        "## **DATA PREPARATION**"
      ],
      "metadata": {
        "id": "I5nDHYcr3Tqg"
      }
    },
    {
      "cell_type": "markdown",
      "source": [
        "We can see that variables like glucose , blood_pressure, skin_thickness, insulin, bmi, diabetics_pedigree, age has 0 as values, we would be replacing those values with their respective means and medians for thosevariables that are not normally distributed"
      ],
      "metadata": {
        "id": "AvVBL6SbKd9j"
      }
    },
    {
      "cell_type": "code",
      "execution_count": null,
      "metadata": {
        "colab": {
          "base_uri": "https://localhost:8080/",
          "height": 424
        },
        "id": "RsNKZRDqbvbk",
        "outputId": "9db7a16c-21ac-465d-d385-b2edee0b611c"
      },
      "outputs": [
        {
          "output_type": "execute_result",
          "data": {
            "text/plain": [
              "     pregnancies  glucose  blood_pressure  skin_thickness  insulin   bmi  \\\n",
              "0              6    148.0            72.0              35     30.5  33.6   \n",
              "1              1     85.0            66.0              29     30.5  26.6   \n",
              "2              8    183.0            64.0              23     30.5  23.3   \n",
              "3              1     89.0            66.0              23     94.0  28.1   \n",
              "4              0    137.0            40.0              35    168.0  43.1   \n",
              "..           ...      ...             ...             ...      ...   ...   \n",
              "763           10    101.0            76.0              48    180.0  32.9   \n",
              "764            2    122.0            70.0              27     30.5  36.8   \n",
              "765            5    121.0            72.0              23    112.0  26.2   \n",
              "766            1    126.0            60.0              23     30.5  30.1   \n",
              "767            1     93.0            70.0              31     30.5  30.4   \n",
              "\n",
              "     diabetics_pedigree  age  outcome  \n",
              "0                 0.627   50        1  \n",
              "1                 0.351   31        0  \n",
              "2                 0.672   32        1  \n",
              "3                 0.167   21        0  \n",
              "4                 2.288   33        1  \n",
              "..                  ...  ...      ...  \n",
              "763               0.171   63        0  \n",
              "764               0.340   27        0  \n",
              "765               0.245   30        0  \n",
              "766               0.349   47        1  \n",
              "767               0.315   23        0  \n",
              "\n",
              "[768 rows x 9 columns]"
            ],
            "text/html": [
              "\n",
              "  <div id=\"df-3490306f-a54a-4514-8902-7cda7cd36d8e\">\n",
              "    <div class=\"colab-df-container\">\n",
              "      <div>\n",
              "<style scoped>\n",
              "    .dataframe tbody tr th:only-of-type {\n",
              "        vertical-align: middle;\n",
              "    }\n",
              "\n",
              "    .dataframe tbody tr th {\n",
              "        vertical-align: top;\n",
              "    }\n",
              "\n",
              "    .dataframe thead th {\n",
              "        text-align: right;\n",
              "    }\n",
              "</style>\n",
              "<table border=\"1\" class=\"dataframe\">\n",
              "  <thead>\n",
              "    <tr style=\"text-align: right;\">\n",
              "      <th></th>\n",
              "      <th>pregnancies</th>\n",
              "      <th>glucose</th>\n",
              "      <th>blood_pressure</th>\n",
              "      <th>skin_thickness</th>\n",
              "      <th>insulin</th>\n",
              "      <th>bmi</th>\n",
              "      <th>diabetics_pedigree</th>\n",
              "      <th>age</th>\n",
              "      <th>outcome</th>\n",
              "    </tr>\n",
              "  </thead>\n",
              "  <tbody>\n",
              "    <tr>\n",
              "      <th>0</th>\n",
              "      <td>6</td>\n",
              "      <td>148.0</td>\n",
              "      <td>72.0</td>\n",
              "      <td>35</td>\n",
              "      <td>30.5</td>\n",
              "      <td>33.6</td>\n",
              "      <td>0.627</td>\n",
              "      <td>50</td>\n",
              "      <td>1</td>\n",
              "    </tr>\n",
              "    <tr>\n",
              "      <th>1</th>\n",
              "      <td>1</td>\n",
              "      <td>85.0</td>\n",
              "      <td>66.0</td>\n",
              "      <td>29</td>\n",
              "      <td>30.5</td>\n",
              "      <td>26.6</td>\n",
              "      <td>0.351</td>\n",
              "      <td>31</td>\n",
              "      <td>0</td>\n",
              "    </tr>\n",
              "    <tr>\n",
              "      <th>2</th>\n",
              "      <td>8</td>\n",
              "      <td>183.0</td>\n",
              "      <td>64.0</td>\n",
              "      <td>23</td>\n",
              "      <td>30.5</td>\n",
              "      <td>23.3</td>\n",
              "      <td>0.672</td>\n",
              "      <td>32</td>\n",
              "      <td>1</td>\n",
              "    </tr>\n",
              "    <tr>\n",
              "      <th>3</th>\n",
              "      <td>1</td>\n",
              "      <td>89.0</td>\n",
              "      <td>66.0</td>\n",
              "      <td>23</td>\n",
              "      <td>94.0</td>\n",
              "      <td>28.1</td>\n",
              "      <td>0.167</td>\n",
              "      <td>21</td>\n",
              "      <td>0</td>\n",
              "    </tr>\n",
              "    <tr>\n",
              "      <th>4</th>\n",
              "      <td>0</td>\n",
              "      <td>137.0</td>\n",
              "      <td>40.0</td>\n",
              "      <td>35</td>\n",
              "      <td>168.0</td>\n",
              "      <td>43.1</td>\n",
              "      <td>2.288</td>\n",
              "      <td>33</td>\n",
              "      <td>1</td>\n",
              "    </tr>\n",
              "    <tr>\n",
              "      <th>...</th>\n",
              "      <td>...</td>\n",
              "      <td>...</td>\n",
              "      <td>...</td>\n",
              "      <td>...</td>\n",
              "      <td>...</td>\n",
              "      <td>...</td>\n",
              "      <td>...</td>\n",
              "      <td>...</td>\n",
              "      <td>...</td>\n",
              "    </tr>\n",
              "    <tr>\n",
              "      <th>763</th>\n",
              "      <td>10</td>\n",
              "      <td>101.0</td>\n",
              "      <td>76.0</td>\n",
              "      <td>48</td>\n",
              "      <td>180.0</td>\n",
              "      <td>32.9</td>\n",
              "      <td>0.171</td>\n",
              "      <td>63</td>\n",
              "      <td>0</td>\n",
              "    </tr>\n",
              "    <tr>\n",
              "      <th>764</th>\n",
              "      <td>2</td>\n",
              "      <td>122.0</td>\n",
              "      <td>70.0</td>\n",
              "      <td>27</td>\n",
              "      <td>30.5</td>\n",
              "      <td>36.8</td>\n",
              "      <td>0.340</td>\n",
              "      <td>27</td>\n",
              "      <td>0</td>\n",
              "    </tr>\n",
              "    <tr>\n",
              "      <th>765</th>\n",
              "      <td>5</td>\n",
              "      <td>121.0</td>\n",
              "      <td>72.0</td>\n",
              "      <td>23</td>\n",
              "      <td>112.0</td>\n",
              "      <td>26.2</td>\n",
              "      <td>0.245</td>\n",
              "      <td>30</td>\n",
              "      <td>0</td>\n",
              "    </tr>\n",
              "    <tr>\n",
              "      <th>766</th>\n",
              "      <td>1</td>\n",
              "      <td>126.0</td>\n",
              "      <td>60.0</td>\n",
              "      <td>23</td>\n",
              "      <td>30.5</td>\n",
              "      <td>30.1</td>\n",
              "      <td>0.349</td>\n",
              "      <td>47</td>\n",
              "      <td>1</td>\n",
              "    </tr>\n",
              "    <tr>\n",
              "      <th>767</th>\n",
              "      <td>1</td>\n",
              "      <td>93.0</td>\n",
              "      <td>70.0</td>\n",
              "      <td>31</td>\n",
              "      <td>30.5</td>\n",
              "      <td>30.4</td>\n",
              "      <td>0.315</td>\n",
              "      <td>23</td>\n",
              "      <td>0</td>\n",
              "    </tr>\n",
              "  </tbody>\n",
              "</table>\n",
              "<p>768 rows × 9 columns</p>\n",
              "</div>\n",
              "      <button class=\"colab-df-convert\" onclick=\"convertToInteractive('df-3490306f-a54a-4514-8902-7cda7cd36d8e')\"\n",
              "              title=\"Convert this dataframe to an interactive table.\"\n",
              "              style=\"display:none;\">\n",
              "        \n",
              "  <svg xmlns=\"http://www.w3.org/2000/svg\" height=\"24px\"viewBox=\"0 0 24 24\"\n",
              "       width=\"24px\">\n",
              "    <path d=\"M0 0h24v24H0V0z\" fill=\"none\"/>\n",
              "    <path d=\"M18.56 5.44l.94 2.06.94-2.06 2.06-.94-2.06-.94-.94-2.06-.94 2.06-2.06.94zm-11 1L8.5 8.5l.94-2.06 2.06-.94-2.06-.94L8.5 2.5l-.94 2.06-2.06.94zm10 10l.94 2.06.94-2.06 2.06-.94-2.06-.94-.94-2.06-.94 2.06-2.06.94z\"/><path d=\"M17.41 7.96l-1.37-1.37c-.4-.4-.92-.59-1.43-.59-.52 0-1.04.2-1.43.59L10.3 9.45l-7.72 7.72c-.78.78-.78 2.05 0 2.83L4 21.41c.39.39.9.59 1.41.59.51 0 1.02-.2 1.41-.59l7.78-7.78 2.81-2.81c.8-.78.8-2.07 0-2.86zM5.41 20L4 18.59l7.72-7.72 1.47 1.35L5.41 20z\"/>\n",
              "  </svg>\n",
              "      </button>\n",
              "      \n",
              "  <style>\n",
              "    .colab-df-container {\n",
              "      display:flex;\n",
              "      flex-wrap:wrap;\n",
              "      gap: 12px;\n",
              "    }\n",
              "\n",
              "    .colab-df-convert {\n",
              "      background-color: #E8F0FE;\n",
              "      border: none;\n",
              "      border-radius: 50%;\n",
              "      cursor: pointer;\n",
              "      display: none;\n",
              "      fill: #1967D2;\n",
              "      height: 32px;\n",
              "      padding: 0 0 0 0;\n",
              "      width: 32px;\n",
              "    }\n",
              "\n",
              "    .colab-df-convert:hover {\n",
              "      background-color: #E2EBFA;\n",
              "      box-shadow: 0px 1px 2px rgba(60, 64, 67, 0.3), 0px 1px 3px 1px rgba(60, 64, 67, 0.15);\n",
              "      fill: #174EA6;\n",
              "    }\n",
              "\n",
              "    [theme=dark] .colab-df-convert {\n",
              "      background-color: #3B4455;\n",
              "      fill: #D2E3FC;\n",
              "    }\n",
              "\n",
              "    [theme=dark] .colab-df-convert:hover {\n",
              "      background-color: #434B5C;\n",
              "      box-shadow: 0px 1px 3px 1px rgba(0, 0, 0, 0.15);\n",
              "      filter: drop-shadow(0px 1px 2px rgba(0, 0, 0, 0.3));\n",
              "      fill: #FFFFFF;\n",
              "    }\n",
              "  </style>\n",
              "\n",
              "      <script>\n",
              "        const buttonEl =\n",
              "          document.querySelector('#df-3490306f-a54a-4514-8902-7cda7cd36d8e button.colab-df-convert');\n",
              "        buttonEl.style.display =\n",
              "          google.colab.kernel.accessAllowed ? 'block' : 'none';\n",
              "\n",
              "        async function convertToInteractive(key) {\n",
              "          const element = document.querySelector('#df-3490306f-a54a-4514-8902-7cda7cd36d8e');\n",
              "          const dataTable =\n",
              "            await google.colab.kernel.invokeFunction('convertToInteractive',\n",
              "                                                     [key], {});\n",
              "          if (!dataTable) return;\n",
              "\n",
              "          const docLinkHtml = 'Like what you see? Visit the ' +\n",
              "            '<a target=\"_blank\" href=https://colab.research.google.com/notebooks/data_table.ipynb>data table notebook</a>'\n",
              "            + ' to learn more about interactive tables.';\n",
              "          element.innerHTML = '';\n",
              "          dataTable['output_type'] = 'display_data';\n",
              "          await google.colab.output.renderOutput(dataTable, element);\n",
              "          const docLink = document.createElement('div');\n",
              "          docLink.innerHTML = docLinkHtml;\n",
              "          element.appendChild(docLink);\n",
              "        }\n",
              "      </script>\n",
              "    </div>\n",
              "  </div>\n",
              "  "
            ]
          },
          "metadata": {},
          "execution_count": 6
        }
      ],
      "source": [
        "pima.glucose.replace(0,value=pima.glucose.mean(),inplace=True)\n",
        "pima.blood_pressure.replace(0,value=pima.blood_pressure.mean(),inplace=True)\n",
        "pima.skin_thickness.replace(0,value=pima.skin_thickness.median(),inplace=True)\n",
        "pima.insulin.replace(0,value=pima.insulin.median(),inplace=True)\n",
        "pima.bmi.replace(0,value=pima.bmi.mean(),inplace=True)\n",
        "pima.diabetics_pedigree.replace(0,value=pima.diabetics_pedigree.median(),inplace=True)\n",
        "pima.age.replace(0,value=pima.age.median(),inplace=True)\n",
        "pima"
      ]
    },
    {
      "cell_type": "markdown",
      "metadata": {
        "id": "UxObG3ugescb"
      },
      "source": [
        "**Train Test split**"
      ]
    },
    {
      "cell_type": "code",
      "execution_count": null,
      "metadata": {
        "colab": {
          "base_uri": "https://localhost:8080/"
        },
        "id": "sVhuNAF9ey54",
        "outputId": "03ba696b-4d1f-49e1-dbeb-036e5a67a815"
      },
      "outputs": [
        {
          "output_type": "stream",
          "name": "stdout",
          "text": [
            "(537, 8)\n",
            "(537, 1)\n",
            "(231, 8)\n",
            "(231, 1)\n"
          ]
        }
      ],
      "source": [
        "X = pima.drop('outcome',axis=1)\n",
        "y = pima.loc[:,['outcome']]\n",
        "from sklearn.model_selection import train_test_split\n",
        "X_train, X_test, y_train, y_test = train_test_split(X, y , test_size=0.3, random_state=1)\n",
        "print(X_train.shape)\n",
        "print(y_train.shape)\n",
        "print(X_test.shape)\n",
        "print(y_test.shape)\n"
      ]
    },
    {
      "cell_type": "markdown",
      "source": [
        "**Balancing the data using SMOTE**\n",
        "\n",
        "Since the data was unbalanced , i am going to do over sampling of minority class to balance it out with the majority class, for this purpose i am going to use SMOTE\n",
        "\n",
        "SMOTE(Synthetic Minority OverSampling Technique) is a type of over sampling technique that generates synthetic samples that is similiar to the original sample. SMOTE uses k-nearest neighbour , by randomly picking up a point of minority class amd computes knn. The synthetic samples are then added between the chosen point and its neighbours.\n",
        "\n",
        "Here we only would be resampling with train data as because resampling test data and having same number of both of the dependent variables do not makes much sense.\n"
      ],
      "metadata": {
        "id": "qWzCdnLW3qcg"
      }
    },
    {
      "cell_type": "code",
      "source": [
        "\n",
        "smote = SMOTE()\n",
        "X_sm, y_sm = smote.fit_resample(X_train, y_train)\n",
        "print('Before Resampling''\\n')\n",
        "print(X_train.shape)\n",
        "print(y_train.shape)\n",
        "print('\\n''After resampling''\\n')\n",
        "print(X_sm.shape)\n",
        "print(y_sm.shape)\n",
        "print('\\n''outcome before resampling''\\n')\n",
        "print(y_train.value_counts())\n",
        "print('\\n''outcome after resampling''\\n')\n",
        "print(y_sm.value_counts())"
      ],
      "metadata": {
        "colab": {
          "base_uri": "https://localhost:8080/"
        },
        "id": "BMvqU5ZI3zI6",
        "outputId": "1794d21a-02f0-4399-d5dd-6f0e0c768068"
      },
      "execution_count": null,
      "outputs": [
        {
          "output_type": "stream",
          "name": "stdout",
          "text": [
            "Before Resampling\n",
            "\n",
            "(537, 8)\n",
            "(537, 1)\n",
            "\n",
            "After resampling\n",
            "\n",
            "(708, 8)\n",
            "(708, 1)\n",
            "\n",
            "outcome before resampling\n",
            "\n",
            "outcome\n",
            "0          354\n",
            "1          183\n",
            "dtype: int64\n",
            "\n",
            "outcome after resampling\n",
            "\n",
            "outcome\n",
            "0          354\n",
            "1          354\n",
            "dtype: int64\n"
          ]
        }
      ]
    },
    {
      "cell_type": "markdown",
      "metadata": {
        "id": "ZtKmWfmlqKUc"
      },
      "source": [
        "**Normalize**"
      ]
    },
    {
      "cell_type": "code",
      "execution_count": null,
      "metadata": {
        "colab": {
          "base_uri": "https://localhost:8080/",
          "height": 424
        },
        "id": "nmCdWvpAfhWX",
        "outputId": "db7360b7-44f6-43b3-f980-7b8341a3a42a"
      },
      "outputs": [
        {
          "output_type": "execute_result",
          "data": {
            "text/plain": [
              "     pregnancies   glucose  blood_pressure  skin_thickness   insulin  \\\n",
              "0       1.000000  0.597403        0.469388        0.271739  0.130316   \n",
              "1       0.000000  0.344156        0.408163        0.315217  0.116598   \n",
              "2       0.066667  0.467532        0.469388        0.228261  0.021262   \n",
              "3       0.133333  0.402597        0.408163        0.304348  0.142661   \n",
              "4       0.000000  0.512987        0.653061        0.326087  0.021262   \n",
              "..           ...       ...             ...             ...       ...   \n",
              "703     0.400000  0.762918        0.634080        0.173913  0.021262   \n",
              "704     0.600000  0.305821        0.608065        0.260870  0.021262   \n",
              "705     0.333333  0.530022        0.532292        0.173913  0.021262   \n",
              "706     0.333333  0.915382        0.490434        0.282609  0.414606   \n",
              "707     0.000000  0.518548        0.457668        0.141304  0.021262   \n",
              "\n",
              "          bmi  diabetics_pedigree       age  \n",
              "0    0.386503            0.030303  0.431373  \n",
              "1    0.380368            0.229501  0.078431  \n",
              "2    0.188139            0.053030  0.000000  \n",
              "3    0.251534            0.586007  0.254902  \n",
              "4    0.347648            0.049911  0.156863  \n",
              "..        ...                 ...       ...  \n",
              "703  0.256064            0.058702  0.509804  \n",
              "704  0.343755            0.298569  0.666667  \n",
              "705  0.351328            0.148906  0.313725  \n",
              "706  0.281702            0.205895  0.313725  \n",
              "707  0.201644            0.073521  0.274510  \n",
              "\n",
              "[708 rows x 8 columns]"
            ],
            "text/html": [
              "\n",
              "  <div id=\"df-2efb3509-e0eb-49f7-886d-3d3f6980f1e3\">\n",
              "    <div class=\"colab-df-container\">\n",
              "      <div>\n",
              "<style scoped>\n",
              "    .dataframe tbody tr th:only-of-type {\n",
              "        vertical-align: middle;\n",
              "    }\n",
              "\n",
              "    .dataframe tbody tr th {\n",
              "        vertical-align: top;\n",
              "    }\n",
              "\n",
              "    .dataframe thead th {\n",
              "        text-align: right;\n",
              "    }\n",
              "</style>\n",
              "<table border=\"1\" class=\"dataframe\">\n",
              "  <thead>\n",
              "    <tr style=\"text-align: right;\">\n",
              "      <th></th>\n",
              "      <th>pregnancies</th>\n",
              "      <th>glucose</th>\n",
              "      <th>blood_pressure</th>\n",
              "      <th>skin_thickness</th>\n",
              "      <th>insulin</th>\n",
              "      <th>bmi</th>\n",
              "      <th>diabetics_pedigree</th>\n",
              "      <th>age</th>\n",
              "    </tr>\n",
              "  </thead>\n",
              "  <tbody>\n",
              "    <tr>\n",
              "      <th>0</th>\n",
              "      <td>1.000000</td>\n",
              "      <td>0.597403</td>\n",
              "      <td>0.469388</td>\n",
              "      <td>0.271739</td>\n",
              "      <td>0.130316</td>\n",
              "      <td>0.386503</td>\n",
              "      <td>0.030303</td>\n",
              "      <td>0.431373</td>\n",
              "    </tr>\n",
              "    <tr>\n",
              "      <th>1</th>\n",
              "      <td>0.000000</td>\n",
              "      <td>0.344156</td>\n",
              "      <td>0.408163</td>\n",
              "      <td>0.315217</td>\n",
              "      <td>0.116598</td>\n",
              "      <td>0.380368</td>\n",
              "      <td>0.229501</td>\n",
              "      <td>0.078431</td>\n",
              "    </tr>\n",
              "    <tr>\n",
              "      <th>2</th>\n",
              "      <td>0.066667</td>\n",
              "      <td>0.467532</td>\n",
              "      <td>0.469388</td>\n",
              "      <td>0.228261</td>\n",
              "      <td>0.021262</td>\n",
              "      <td>0.188139</td>\n",
              "      <td>0.053030</td>\n",
              "      <td>0.000000</td>\n",
              "    </tr>\n",
              "    <tr>\n",
              "      <th>3</th>\n",
              "      <td>0.133333</td>\n",
              "      <td>0.402597</td>\n",
              "      <td>0.408163</td>\n",
              "      <td>0.304348</td>\n",
              "      <td>0.142661</td>\n",
              "      <td>0.251534</td>\n",
              "      <td>0.586007</td>\n",
              "      <td>0.254902</td>\n",
              "    </tr>\n",
              "    <tr>\n",
              "      <th>4</th>\n",
              "      <td>0.000000</td>\n",
              "      <td>0.512987</td>\n",
              "      <td>0.653061</td>\n",
              "      <td>0.326087</td>\n",
              "      <td>0.021262</td>\n",
              "      <td>0.347648</td>\n",
              "      <td>0.049911</td>\n",
              "      <td>0.156863</td>\n",
              "    </tr>\n",
              "    <tr>\n",
              "      <th>...</th>\n",
              "      <td>...</td>\n",
              "      <td>...</td>\n",
              "      <td>...</td>\n",
              "      <td>...</td>\n",
              "      <td>...</td>\n",
              "      <td>...</td>\n",
              "      <td>...</td>\n",
              "      <td>...</td>\n",
              "    </tr>\n",
              "    <tr>\n",
              "      <th>703</th>\n",
              "      <td>0.400000</td>\n",
              "      <td>0.762918</td>\n",
              "      <td>0.634080</td>\n",
              "      <td>0.173913</td>\n",
              "      <td>0.021262</td>\n",
              "      <td>0.256064</td>\n",
              "      <td>0.058702</td>\n",
              "      <td>0.509804</td>\n",
              "    </tr>\n",
              "    <tr>\n",
              "      <th>704</th>\n",
              "      <td>0.600000</td>\n",
              "      <td>0.305821</td>\n",
              "      <td>0.608065</td>\n",
              "      <td>0.260870</td>\n",
              "      <td>0.021262</td>\n",
              "      <td>0.343755</td>\n",
              "      <td>0.298569</td>\n",
              "      <td>0.666667</td>\n",
              "    </tr>\n",
              "    <tr>\n",
              "      <th>705</th>\n",
              "      <td>0.333333</td>\n",
              "      <td>0.530022</td>\n",
              "      <td>0.532292</td>\n",
              "      <td>0.173913</td>\n",
              "      <td>0.021262</td>\n",
              "      <td>0.351328</td>\n",
              "      <td>0.148906</td>\n",
              "      <td>0.313725</td>\n",
              "    </tr>\n",
              "    <tr>\n",
              "      <th>706</th>\n",
              "      <td>0.333333</td>\n",
              "      <td>0.915382</td>\n",
              "      <td>0.490434</td>\n",
              "      <td>0.282609</td>\n",
              "      <td>0.414606</td>\n",
              "      <td>0.281702</td>\n",
              "      <td>0.205895</td>\n",
              "      <td>0.313725</td>\n",
              "    </tr>\n",
              "    <tr>\n",
              "      <th>707</th>\n",
              "      <td>0.000000</td>\n",
              "      <td>0.518548</td>\n",
              "      <td>0.457668</td>\n",
              "      <td>0.141304</td>\n",
              "      <td>0.021262</td>\n",
              "      <td>0.201644</td>\n",
              "      <td>0.073521</td>\n",
              "      <td>0.274510</td>\n",
              "    </tr>\n",
              "  </tbody>\n",
              "</table>\n",
              "<p>708 rows × 8 columns</p>\n",
              "</div>\n",
              "      <button class=\"colab-df-convert\" onclick=\"convertToInteractive('df-2efb3509-e0eb-49f7-886d-3d3f6980f1e3')\"\n",
              "              title=\"Convert this dataframe to an interactive table.\"\n",
              "              style=\"display:none;\">\n",
              "        \n",
              "  <svg xmlns=\"http://www.w3.org/2000/svg\" height=\"24px\"viewBox=\"0 0 24 24\"\n",
              "       width=\"24px\">\n",
              "    <path d=\"M0 0h24v24H0V0z\" fill=\"none\"/>\n",
              "    <path d=\"M18.56 5.44l.94 2.06.94-2.06 2.06-.94-2.06-.94-.94-2.06-.94 2.06-2.06.94zm-11 1L8.5 8.5l.94-2.06 2.06-.94-2.06-.94L8.5 2.5l-.94 2.06-2.06.94zm10 10l.94 2.06.94-2.06 2.06-.94-2.06-.94-.94-2.06-.94 2.06-2.06.94z\"/><path d=\"M17.41 7.96l-1.37-1.37c-.4-.4-.92-.59-1.43-.59-.52 0-1.04.2-1.43.59L10.3 9.45l-7.72 7.72c-.78.78-.78 2.05 0 2.83L4 21.41c.39.39.9.59 1.41.59.51 0 1.02-.2 1.41-.59l7.78-7.78 2.81-2.81c.8-.78.8-2.07 0-2.86zM5.41 20L4 18.59l7.72-7.72 1.47 1.35L5.41 20z\"/>\n",
              "  </svg>\n",
              "      </button>\n",
              "      \n",
              "  <style>\n",
              "    .colab-df-container {\n",
              "      display:flex;\n",
              "      flex-wrap:wrap;\n",
              "      gap: 12px;\n",
              "    }\n",
              "\n",
              "    .colab-df-convert {\n",
              "      background-color: #E8F0FE;\n",
              "      border: none;\n",
              "      border-radius: 50%;\n",
              "      cursor: pointer;\n",
              "      display: none;\n",
              "      fill: #1967D2;\n",
              "      height: 32px;\n",
              "      padding: 0 0 0 0;\n",
              "      width: 32px;\n",
              "    }\n",
              "\n",
              "    .colab-df-convert:hover {\n",
              "      background-color: #E2EBFA;\n",
              "      box-shadow: 0px 1px 2px rgba(60, 64, 67, 0.3), 0px 1px 3px 1px rgba(60, 64, 67, 0.15);\n",
              "      fill: #174EA6;\n",
              "    }\n",
              "\n",
              "    [theme=dark] .colab-df-convert {\n",
              "      background-color: #3B4455;\n",
              "      fill: #D2E3FC;\n",
              "    }\n",
              "\n",
              "    [theme=dark] .colab-df-convert:hover {\n",
              "      background-color: #434B5C;\n",
              "      box-shadow: 0px 1px 3px 1px rgba(0, 0, 0, 0.15);\n",
              "      filter: drop-shadow(0px 1px 2px rgba(0, 0, 0, 0.3));\n",
              "      fill: #FFFFFF;\n",
              "    }\n",
              "  </style>\n",
              "\n",
              "      <script>\n",
              "        const buttonEl =\n",
              "          document.querySelector('#df-2efb3509-e0eb-49f7-886d-3d3f6980f1e3 button.colab-df-convert');\n",
              "        buttonEl.style.display =\n",
              "          google.colab.kernel.accessAllowed ? 'block' : 'none';\n",
              "\n",
              "        async function convertToInteractive(key) {\n",
              "          const element = document.querySelector('#df-2efb3509-e0eb-49f7-886d-3d3f6980f1e3');\n",
              "          const dataTable =\n",
              "            await google.colab.kernel.invokeFunction('convertToInteractive',\n",
              "                                                     [key], {});\n",
              "          if (!dataTable) return;\n",
              "\n",
              "          const docLinkHtml = 'Like what you see? Visit the ' +\n",
              "            '<a target=\"_blank\" href=https://colab.research.google.com/notebooks/data_table.ipynb>data table notebook</a>'\n",
              "            + ' to learn more about interactive tables.';\n",
              "          element.innerHTML = '';\n",
              "          dataTable['output_type'] = 'display_data';\n",
              "          await google.colab.output.renderOutput(dataTable, element);\n",
              "          const docLink = document.createElement('div');\n",
              "          docLink.innerHTML = docLinkHtml;\n",
              "          element.appendChild(docLink);\n",
              "        }\n",
              "      </script>\n",
              "    </div>\n",
              "  </div>\n",
              "  "
            ]
          },
          "metadata": {},
          "execution_count": 9
        }
      ],
      "source": [
        "from sklearn.preprocessing import MinMaxScaler\n",
        "normie = MinMaxScaler()\n",
        "X_scaled = normie.fit_transform(X_sm)\n",
        "X_train = pd.DataFrame(X_scaled)\n",
        "X_train.columns = ['pregnancies','glucose','blood_pressure','skin_thickness','insulin','bmi','diabetics_pedigree','age']\n",
        "X_test_scaled= normie.transform(X_test)\n",
        "X_test=pd.DataFrame(X_test_scaled)\n",
        "X_test.columns = ['pregnancies','glucose','blood_pressure','skin_thickness','insulin','bmi','diabetics_pedigree','age']\n",
        "X_train"
      ]
    },
    {
      "cell_type": "markdown",
      "source": [
        "#**Training and Evaluating Machine Learning Models**"
      ],
      "metadata": {
        "id": "V5l-83S2RuNR"
      }
    },
    {
      "cell_type": "code",
      "execution_count": null,
      "metadata": {
        "id": "MZkL0bMUqXcy"
      },
      "outputs": [],
      "source": [
        "from sklearn.linear_model import LogisticRegression\n",
        "from sklearn.ensemble import AdaBoostClassifier\n",
        "from sklearn.ensemble import GradientBoostingClassifier\n",
        "from sklearn.model_selection import GridSearchCV\n",
        "from sklearn.ensemble import RandomForestClassifier\n",
        "from sklearn import metrics"
      ]
    },
    {
      "cell_type": "markdown",
      "source": [
        "**Logistic Regression**"
      ],
      "metadata": {
        "id": "NtETymZOR4R9"
      }
    },
    {
      "cell_type": "code",
      "execution_count": null,
      "metadata": {
        "colab": {
          "base_uri": "https://localhost:8080/"
        },
        "id": "MVhjhVvhtJj_",
        "outputId": "45f343cb-e420-4a7e-e69c-f08f368eb304"
      },
      "outputs": [
        {
          "output_type": "execute_result",
          "data": {
            "text/plain": [
              "0.7922077922077922"
            ]
          },
          "metadata": {},
          "execution_count": 11
        }
      ],
      "source": [
        "LR_dia = LogisticRegression()\n",
        "LR_dia.fit(X_train,y_sm.values.ravel())\n",
        "y_pred = LR_dia.predict(X_test)\n",
        "LR_score = metrics.accuracy_score(y_test,y_pred)\n",
        "LR_score"
      ]
    },
    {
      "cell_type": "markdown",
      "source": [
        "**Random Forest**"
      ],
      "metadata": {
        "id": "-c2yEsgsSLaA"
      }
    },
    {
      "cell_type": "code",
      "execution_count": null,
      "metadata": {
        "colab": {
          "base_uri": "https://localhost:8080/"
        },
        "id": "lbRD5XpiCyYs",
        "outputId": "25bec342-9bb9-4c89-f640-236ed2a96c55"
      },
      "outputs": [
        {
          "output_type": "execute_result",
          "data": {
            "text/plain": [
              "0.8181818181818182"
            ]
          },
          "metadata": {},
          "execution_count": 12
        }
      ],
      "source": [
        "RF_dia = RandomForestClassifier(n_estimators=1000)\n",
        "RF_dia.fit(X_train,y_sm.values.ravel())\n",
        "RF_pred = RF_dia.predict(X_test)\n",
        "RF_score = metrics.accuracy_score(y_test,RF_pred)\n",
        "RF_score"
      ]
    },
    {
      "cell_type": "markdown",
      "source": [
        "**Gradient Boosting Classifier**"
      ],
      "metadata": {
        "id": "Qn947SZbSPDR"
      }
    },
    {
      "cell_type": "code",
      "execution_count": null,
      "metadata": {
        "colab": {
          "base_uri": "https://localhost:8080/"
        },
        "id": "Pfo4vOiWKJOE",
        "outputId": "0525e915-f826-4546-b45d-8cb36df0945e"
      },
      "outputs": [
        {
          "output_type": "execute_result",
          "data": {
            "text/plain": [
              "0.8138528138528138"
            ]
          },
          "metadata": {},
          "execution_count": 13
        }
      ],
      "source": [
        "gbc_dia = GradientBoostingClassifier()\n",
        "gbc_dia.fit(X_train,y_sm.values.ravel())\n",
        "gbc_pred = gbc_dia.predict(X_test)\n",
        "gbc_pred = metrics.accuracy_score(y_test,gbc_pred)\n",
        "gbc_pred"
      ]
    },
    {
      "cell_type": "markdown",
      "source": [
        "**Ada Boost Classifier**"
      ],
      "metadata": {
        "id": "CXO7eY-2STzd"
      }
    },
    {
      "cell_type": "code",
      "source": [
        "abc_dia = AdaBoostClassifier()\n",
        "abc_dia.fit(X_train,y_sm.values.ravel())\n",
        "abc_pred = abc_dia.predict(X_test)\n",
        "abc_pred = metrics.accuracy_score(y_test,abc_pred)\n",
        "abc_pred"
      ],
      "metadata": {
        "colab": {
          "base_uri": "https://localhost:8080/"
        },
        "id": "nx5oZ00xPVa0",
        "outputId": "49651269-e05f-43f7-e803-801d35cbeaba"
      },
      "execution_count": null,
      "outputs": [
        {
          "output_type": "execute_result",
          "data": {
            "text/plain": [
              "0.7835497835497836"
            ]
          },
          "metadata": {},
          "execution_count": 14
        }
      ]
    },
    {
      "cell_type": "markdown",
      "source": [
        "**K Fold Cross Validation**"
      ],
      "metadata": {
        "id": "Ctf-tsFKOwgz"
      }
    },
    {
      "cell_type": "code",
      "execution_count": null,
      "metadata": {
        "colab": {
          "base_uri": "https://localhost:8080/"
        },
        "id": "yNDoJSOxRB3D",
        "outputId": "31850043-2f90-4d0f-dfa4-7cfb7aa9c8da"
      },
      "outputs": [
        {
          "output_type": "stream",
          "name": "stdout",
          "text": [
            "KFOLD accuracy of LR: 0.7173843058350101\n",
            "KFOLD accuracy of RF: 0.8092756539235413\n",
            "KFOLD accuracy of ABC: 0.7442655935613682\n",
            "KFOLD accuracy of GBC: 0.7795372233400404\n"
          ]
        }
      ],
      "source": [
        "from sklearn.model_selection import KFold\n",
        "from sklearn.model_selection import cross_val_score\n",
        "k_fold = KFold(n_splits=10, shuffle=True, random_state=1)\n",
        "LR_cv = cross_val_score(estimator=LR_dia , X=X_train, y=y_sm.values.ravel(), cv=k_fold)\n",
        "#DT_cv = cross_val_score(estimator=DT , X=X_train, y=y_train.values.ravel(), cv=k_fold)\n",
        "RF_cv = cross_val_score(estimator=RF_dia , X=X_train, y=y_sm.values.ravel(), cv=k_fold)\n",
        "ABC_cv = cross_val_score(estimator=abc_dia , X=X_train, y=y_sm.values.ravel(), cv=k_fold)\n",
        "GBC_cv = cross_val_score(estimator=gbc_dia , X=X_train, y=y_sm.values.ravel(), cv=k_fold)\n",
        "print('KFOLD accuracy of LR:', LR_cv.mean())\n",
        "#print('KFOLD accuracy of DT:', DT_cv.mean())\n",
        "print('KFOLD accuracy of RF:', RF_cv.mean())\n",
        "print('KFOLD accuracy of ABC:', ABC_cv.mean())\n",
        "print('KFOLD accuracy of GBC:', GBC_cv.mean())"
      ]
    },
    {
      "cell_type": "markdown",
      "source": [
        "We can observe that both in base models as well as K Fold Cross validation, RANDOM FOREST CLASSIFIER fetches the highest accuracy. Therefore we will further try to improve that model"
      ],
      "metadata": {
        "id": "Zd3m14StQTpE"
      }
    },
    {
      "cell_type": "markdown",
      "source": [
        "**Feature importance of Random Forest**"
      ],
      "metadata": {
        "id": "Gd8tpDx-SaBa"
      }
    },
    {
      "cell_type": "code",
      "source": [
        "importance_RF = RF_dia.feature_importances_\n",
        "importance_GBC = gbc_dia.feature_importances_\n",
        "labels = list(X_train.columns)\n"
      ],
      "metadata": {
        "id": "RQOIbnQHSkXZ"
      },
      "execution_count": null,
      "outputs": []
    },
    {
      "cell_type": "code",
      "source": [
        "features_Rf = pd.DataFrame()\n",
        "features_Rf['Features'] = labels\n",
        "features_Rf['importance'] = importance_RF\n",
        "features_Rf.sort_values(by=['importance'], ascending=True, inplace=True)\n",
        "features_Rf['positive'] = features_Rf['importance'] > 0\n",
        "features_Rf.set_index('Features', inplace=True)\n",
        "features_Rf.importance.plot(kind='barh', figsize=(11, 6),color = features_Rf.positive.map({True: 'blue', False: 'red'}))\n",
        "plt.xlabel('Feature Importance Random Forest')"
      ],
      "metadata": {
        "colab": {
          "base_uri": "https://localhost:8080/",
          "height": 405
        },
        "id": "YLud2vN2UaV1",
        "outputId": "eb5f06f6-c5d2-45ac-d132-e9685d1965f9"
      },
      "execution_count": null,
      "outputs": [
        {
          "output_type": "execute_result",
          "data": {
            "text/plain": [
              "Text(0.5, 0, 'Feature Importance Random Forest')"
            ]
          },
          "metadata": {},
          "execution_count": 17
        },
        {
          "output_type": "display_data",
          "data": {
            "text/plain": [
              "<Figure size 792x432 with 1 Axes>"
            ],
            "image/png": "[encoded data removed]"
          },
          "metadata": {
            "needs_background": "light"
          }
        }
      ]
    },
    {
      "cell_type": "markdown",
      "source": [
        "#**Hyper-parameter Tuning (RandomSearch CV)**"
      ],
      "metadata": {
        "id": "88cnmo0lW4XT"
      }
    },
    {
      "cell_type": "code",
      "execution_count": null,
      "metadata": {
        "id": "KEPax0xhR4we"
      },
      "outputs": [],
      "source": [
        "from sklearn.model_selection import RandomizedSearchCV"
      ]
    },
    {
      "cell_type": "code",
      "source": [
        "\n",
        "# Number of trees in random forest\n",
        "n_estimators = [int(x) for x in range(100,1500,150)]\n",
        "# Number of features to consider at every split\n",
        "max_features = ['auto', 'sqrt']\n",
        "# Maximum number of levels in tree\n",
        "max_depth = [int(x) for x in np.linspace(10, 110, num = 11)]\n",
        "max_depth.append(None)\n",
        "# Minimum number of samples required to split a node\n",
        "min_samples_split = [int(x) for x in range(2,20,2)]\n",
        "# Minimum number of samples required at each leaf node\n",
        "min_samples_leaf = [2, 4, 6,8,10,14,16,18,20,22,24]\n",
        "# Method of selecting samples for training each tree\n",
        "bootstrap = [True, False]\n",
        "# Create the random grid\n",
        "random_grid = {'n_estimators': n_estimators,\n",
        "               'max_features': max_features,\n",
        "               'max_depth': max_depth,\n",
        "               'min_samples_split': min_samples_split,\n",
        "               'min_samples_leaf': min_samples_leaf,\n",
        "               'bootstrap': bootstrap}\n",
        "print(random_grid)\n",
        "\n",
        "# Use the random grid to search for best hyperparameters\n",
        "# First create the base model to tune\n",
        "rf = RandomForestClassifier()\n",
        "# Random search of parameters, using 3 fold cross validation, \n",
        "# search across 100 different combinations, and use all available cores\n",
        "rf_random = RandomizedSearchCV(estimator = rf, param_distributions = random_grid, n_iter = 100, cv = 3, verbose=2, random_state=42, n_jobs = -1)\n",
        "# Fit the random search model\n",
        "rf_random.fit(X_train, y_sm)"
      ],
      "metadata": {
        "colab": {
          "base_uri": "https://localhost:8080/"
        },
        "id": "gIlI6t5tZYUL",
        "outputId": "2a0e43c0-7de6-412f-e76b-bfec1971321e"
      },
      "execution_count": null,
      "outputs": [
        {
          "output_type": "stream",
          "name": "stdout",
          "text": [
            "{'n_estimators': [100, 250, 400, 550, 700, 850, 1000, 1150, 1300, 1450], 'max_features': ['auto', 'sqrt'], 'max_depth': [10, 20, 30, 40, 50, 60, 70, 80, 90, 100, 110, None], 'min_samples_split': [2, 4, 6, 8, 10, 12, 14, 16, 18], 'min_samples_leaf': [2, 4, 6, 8, 10, 14, 16, 18, 20, 22, 24], 'bootstrap': [True, False]}\n",
            "Fitting 3 folds for each of 100 candidates, totalling 300 fits\n"
          ]
        },
        {
          "output_type": "stream",
          "name": "stderr",
          "text": [
            "/usr/local/lib/python3.7/dist-packages/sklearn/model_selection/_search.py:926: DataConversionWarning: A column-vector y was passed when a 1d array was expected. Please change the shape of y to (n_samples,), for example using ravel().\n",
            "  self.best_estimator_.fit(X, y, **fit_params)\n"
          ]
        },
        {
          "output_type": "execute_result",
          "data": {
            "text/plain": [
              "RandomizedSearchCV(cv=3, estimator=RandomForestClassifier(), n_iter=100,\n",
              "                   n_jobs=-1,\n",
              "                   param_distributions={'bootstrap': [True, False],\n",
              "                                        'max_depth': [10, 20, 30, 40, 50, 60,\n",
              "                                                      70, 80, 90, 100, 110,\n",
              "                                                      None],\n",
              "                                        'max_features': ['auto', 'sqrt'],\n",
              "                                        'min_samples_leaf': [2, 4, 6, 8, 10, 14,\n",
              "                                                             16, 18, 20, 22,\n",
              "                                                             24],\n",
              "                                        'min_samples_split': [2, 4, 6, 8, 10,\n",
              "                                                              12, 14, 16, 18],\n",
              "                                        'n_estimators': [100, 250, 400, 550,\n",
              "                                                         700, 850, 1000, 1150,\n",
              "                                                         1300, 1450]},\n",
              "                   random_state=42, verbose=2)"
            ]
          },
          "metadata": {},
          "execution_count": 20
        }
      ]
    },
    {
      "cell_type": "code",
      "source": [
        "rf_random.best_params_"
      ],
      "metadata": {
        "colab": {
          "base_uri": "https://localhost:8080/"
        },
        "id": "YjrPU9ILiIrH",
        "outputId": "1c26552f-8029-4fcb-8de0-bcebcda246ab"
      },
      "execution_count": null,
      "outputs": [
        {
          "output_type": "execute_result",
          "data": {
            "text/plain": [
              "{'bootstrap': False,\n",
              " 'max_depth': 100,\n",
              " 'max_features': 'auto',\n",
              " 'min_samples_leaf': 2,\n",
              " 'min_samples_split': 6,\n",
              " 'n_estimators': 1000}"
            ]
          },
          "metadata": {},
          "execution_count": 21
        }
      ]
    },
    {
      "cell_type": "code",
      "source": [
        "RF = RandomForestClassifier(n_estimators=1000,min_samples_split=6,min_samples_leaf=2,max_features='auto',max_depth=100,bootstrap=False)\n",
        "RF.fit(X_train,y_sm.values.ravel())\n",
        "y_pred = RF.predict(X_test)\n",
        "RF_score =  metrics.accuracy_score(y_pred, y_test)\n",
        "RF_score"
      ],
      "metadata": {
        "colab": {
          "base_uri": "https://localhost:8080/"
        },
        "id": "4NRtlsd4iQpq",
        "outputId": "e43db910-b9df-4401-d3d8-fc3ebed25c4c"
      },
      "execution_count": null,
      "outputs": [
        {
          "output_type": "execute_result",
          "data": {
            "text/plain": [
              "0.8095238095238095"
            ]
          },
          "metadata": {},
          "execution_count": 50
        }
      ]
    },
    {
      "cell_type": "code",
      "source": [
        "RF_cv = cross_val_score(estimator=RF , X=X_train, y=y_sm.values.ravel(), cv=k_fold)\n",
        "RF_cv"
      ],
      "metadata": {
        "colab": {
          "base_uri": "https://localhost:8080/"
        },
        "id": "1zYjJZTzisTV",
        "outputId": "5a3b4dac-185d-4337-b2ad-0ccb8cdf20d3"
      },
      "execution_count": null,
      "outputs": [
        {
          "output_type": "execute_result",
          "data": {
            "text/plain": [
              "array([0.84507042, 0.83098592, 0.81690141, 0.74647887, 0.85915493,\n",
              "       0.84507042, 0.8028169 , 0.8028169 , 0.8       , 0.77142857])"
            ]
          },
          "metadata": {},
          "execution_count": 52
        }
      ]
    },
    {
      "cell_type": "code",
      "source": [
        "RF_cv.mean()"
      ],
      "metadata": {
        "colab": {
          "base_uri": "https://localhost:8080/"
        },
        "id": "KZ_kD6tDjADc",
        "outputId": "d81ea00b-bf85-4e36-f19b-f38f35aaf403"
      },
      "execution_count": null,
      "outputs": [
        {
          "output_type": "execute_result",
          "data": {
            "text/plain": [
              "0.8120724346076459"
            ]
          },
          "metadata": {},
          "execution_count": 54
        }
      ]
    }
  ],
  "metadata": {
    "colab": {
      "collapsed_sections": [],
      "name": "PIMA.ipynb",
      "provenance": []
    },
    "kernelspec": {
      "display_name": "Python 3",
      "name": "python3"
    },
    "language_info": {
      "name": "python"
    }
  },
  "nbformat": 4,
  "nbformat_minor": 0
}
